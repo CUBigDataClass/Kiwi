{
 "metadata": {
  "name": "",
  "signature": "sha256:0c6f9a702ad215e7dfed9b29ec6c3be05ecc69c975a7ca240a847531012c3583"
 },
 "nbformat": 3,
 "nbformat_minor": 0,
 "worksheets": [
  {
   "cells": [
    {
     "cell_type": "code",
     "collapsed": true,
     "input": [
      "import glob\n",
      "from bs4 import BeautifulSoup"
     ],
     "language": "python",
     "metadata": {},
     "outputs": [],
     "prompt_number": 72
    },
    {
     "cell_type": "code",
     "collapsed": false,
     "input": [
      "documents = []\n",
      "#filelist = glob.glob('../data/product_data/products/products_0001_2570_to_430420.xml')\n",
      "filelist = glob.glob('../data/product_data/products/*')\n",
      "for filename in filelist:\n",
      "    print f\n",
      "    f       = open(filename, 'r')\n",
      "    soup    = BeautifulSoup(f.read())\n",
      "    products = soup.findAll('product')\n",
      "    for product in products:\n",
      "        sku  = int(product.find('sku').text)\n",
      "        name = product.find('name').text\n",
      "        ld   = product.find('longdescription')\n",
      "        sd   = product.find('shortdescription')\n",
      "        if ld:\n",
      "            ld = ld.text\n",
      "        if sd:\n",
      "            sd = sd.text\n",
      "        #ADD CATEGORY!\n",
      "        document = {\"id\":sku,\n",
      "                    \"name\":name,\n",
      "                    \"long_description\":ld,\n",
      "                    \"short_description\":sd}\n",
      "        documents.append(document)"
     ],
     "language": "python",
     "metadata": {},
     "outputs": [
      {
       "output_type": "stream",
       "stream": "stdout",
       "text": [
        "<open file '../data/product_data/products/products_0052_4959708_to_5051409.xml', mode 'r' at 0x1276e7780>\n",
        "<open file '../data/product_data/products/products_0001_2570_to_430420.xml', mode 'r' at 0x160a3cb70>"
       ]
      },
      {
       "output_type": "stream",
       "stream": "stdout",
       "text": [
        "\n",
        "<open file '../data/product_data/products/products_0002_430439_to_518210.xml', mode 'r' at 0x1171055d0>"
       ]
      },
      {
       "output_type": "stream",
       "stream": "stdout",
       "text": [
        "\n",
        "<open file '../data/product_data/products/products_0003_518229_to_606384.xml', mode 'r' at 0x1662f6780>"
       ]
      },
      {
       "output_type": "stream",
       "stream": "stdout",
       "text": [
        "\n",
        "<open file '../data/product_data/products/products_0004_606428_to_722720.xml', mode 'r' at 0x187bc54b0>"
       ]
      },
      {
       "output_type": "stream",
       "stream": "stdout",
       "text": [
        "\n",
        "<open file '../data/product_data/products/products_0005_722800_to_846222.xml', mode 'r' at 0x13b49fed0>"
       ]
      },
      {
       "output_type": "stream",
       "stream": "stdout",
       "text": [
        "\n",
        "<open file '../data/product_data/products/products_0006_846231_to_1002890.xml', mode 'r' at 0x106b10780>"
       ]
      },
      {
       "output_type": "stream",
       "stream": "stdout",
       "text": [
        "\n",
        "<open file '../data/product_data/products/products_0007_1002897_to_1067124.xml', mode 'r' at 0x122615030>"
       ]
      },
      {
       "output_type": "stream",
       "stream": "stdout",
       "text": [
        "\n",
        "<open file '../data/product_data/products/products_0008_1067160_to_1156147.xml', mode 'r' at 0x18b5ba5d0>"
       ]
      },
      {
       "output_type": "stream",
       "stream": "stdout",
       "text": [
        "\n",
        "<open file '../data/product_data/products/products_0009_1156156_to_1230126.xml', mode 'r' at 0x1b59ab270>"
       ]
      },
      {
       "output_type": "stream",
       "stream": "stdout",
       "text": [
        "\n",
        "<open file '../data/product_data/products/products_0010_1230144_to_1304774.xml', mode 'r' at 0x14b6d4540>"
       ]
      },
      {
       "output_type": "stream",
       "stream": "stdout",
       "text": [
        "\n",
        "<open file '../data/product_data/products/products_0011_1304779_to_1387582.xml', mode 'r' at 0x19d430540>"
       ]
      },
      {
       "output_type": "stream",
       "stream": "stdout",
       "text": [
        "\n",
        "<open file '../data/product_data/products/products_0012_1387591_to_1471909.xml', mode 'r' at 0x142285b70>"
       ]
      },
      {
       "output_type": "stream",
       "stream": "stdout",
       "text": [
        "\n",
        "<open file '../data/product_data/products/products_0013_1471918_to_1572104.xml', mode 'r' at 0x1422389c0>"
       ]
      },
      {
       "output_type": "stream",
       "stream": "stdout",
       "text": [
        "\n",
        "<open file '../data/product_data/products/products_0014_1572108_to_1742733.xml', mode 'r' at 0x1d723b6f0>"
       ]
      },
      {
       "output_type": "stream",
       "stream": "stdout",
       "text": [
        "\n",
        "<open file '../data/product_data/products/products_0015_1742742_to_1841136.xml', mode 'r' at 0x123ee5c90>"
       ]
      },
      {
       "output_type": "stream",
       "stream": "stdout",
       "text": [
        "\n",
        "<open file '../data/product_data/products/products_0016_1841154_to_1937676.xml', mode 'r' at 0x18f9505d0>"
       ]
      },
      {
       "output_type": "stream",
       "stream": "stdout",
       "text": [
        "\n",
        "<open file '../data/product_data/products/products_0017_1937685_to_2035434.xml', mode 'r' at 0x10edae0c0>"
       ]
      },
      {
       "output_type": "stream",
       "stream": "stdout",
       "text": [
        "\n",
        "<open file '../data/product_data/products/products_0018_2035443_to_2098517.xml', mode 'r' at 0x151cd2a50>"
       ]
      },
      {
       "output_type": "stream",
       "stream": "stdout",
       "text": [
        "\n",
        "<open file '../data/product_data/products/products_0019_2098526_to_2180438.xml', mode 'r' at 0x1afc669c0>"
       ]
      },
      {
       "output_type": "stream",
       "stream": "stdout",
       "text": [
        "\n",
        "<open file '../data/product_data/products/products_0020_2180446_to_2282074.xml', mode 'r' at 0x14f23e030>"
       ]
      },
      {
       "output_type": "stream",
       "stream": "stdout",
       "text": [
        "\n",
        "<open file '../data/product_data/products/products_0021_2282078_to_2380024.xml', mode 'r' at 0x1cad53c00>"
       ]
      },
      {
       "output_type": "stream",
       "stream": "stdout",
       "text": [
        "\n",
        "<open file '../data/product_data/products/products_0022_2380033_to_2459734.xml', mode 'r' at 0x1305a0270>"
       ]
      },
      {
       "output_type": "stream",
       "stream": "stdout",
       "text": [
        "\n",
        "<open file '../data/product_data/products/products_0023_2459798_to_2537366.xml', mode 'r' at 0x160afd030>"
       ]
      },
      {
       "output_type": "stream",
       "stream": "stdout",
       "text": [
        "\n",
        "<open file '../data/product_data/products/products_0024_2537375_to_2610448.xml', mode 'r' at 0x194e0db70>"
       ]
      },
      {
       "output_type": "stream",
       "stream": "stdout",
       "text": [
        "\n",
        "<open file '../data/product_data/products/products_0025_2610464_to_2685106.xml', mode 'r' at 0x153eef270>"
       ]
      },
      {
       "output_type": "stream",
       "stream": "stdout",
       "text": [
        "\n",
        "<open file '../data/product_data/products/products_0026_2685115_to_2762861.xml', mode 'r' at 0x1b1694ae0>"
       ]
      },
      {
       "output_type": "stream",
       "stream": "stdout",
       "text": [
        "\n",
        "<open file '../data/product_data/products/products_0027_2762943_to_2840956.xml', mode 'r' at 0x10bcb9ed0>"
       ]
      },
      {
       "output_type": "stream",
       "stream": "stdout",
       "text": [
        "\n",
        "<open file '../data/product_data/products/products_0028_2840965_to_2914145.xml', mode 'r' at 0x1227b1ae0>"
       ]
      },
      {
       "output_type": "stream",
       "stream": "stdout",
       "text": [
        "\n",
        "<open file '../data/product_data/products/products_0029_2914154_to_3002761.xml', mode 'r' at 0x1adeb15d0>"
       ]
      },
      {
       "output_type": "stream",
       "stream": "stdout",
       "text": [
        "\n",
        "<open file '../data/product_data/products/products_0030_3002770_to_3080141.xml', mode 'r' at 0x1912694b0>"
       ]
      },
      {
       "output_type": "stream",
       "stream": "stdout",
       "text": [
        "\n",
        "<open file '../data/product_data/products/products_0031_3080150_to_3150841.xml', mode 'r' at 0x1df2bfd20>"
       ]
      },
      {
       "output_type": "stream",
       "stream": "stdout",
       "text": [
        "\n",
        "<open file '../data/product_data/products/products_0032_3150850_to_3239748.xml', mode 'r' at 0x1be48d540>"
       ]
      },
      {
       "output_type": "stream",
       "stream": "stdout",
       "text": [
        "\n",
        "<open file '../data/product_data/products/products_0033_3239757_to_3328731.xml', mode 'r' at 0x197658d20>"
       ]
      },
      {
       "output_type": "stream",
       "stream": "stdout",
       "text": [
        "\n",
        "<open file '../data/product_data/products/products_0034_3328759_to_3408351.xml', mode 'r' at 0x1326f0ed0>"
       ]
      },
      {
       "output_type": "stream",
       "stream": "stdout",
       "text": [
        "\n",
        "<open file '../data/product_data/products/products_0035_3408360_to_3476039.xml', mode 'r' at 0x1c8c724b0>"
       ]
      },
      {
       "output_type": "stream",
       "stream": "stdout",
       "text": [
        "\n",
        "<open file '../data/product_data/products/products_0036_3476045_to_3543767.xml', mode 'r' at 0x10541db70>"
       ]
      },
      {
       "output_type": "stream",
       "stream": "stdout",
       "text": [
        "\n",
        "<open file '../data/product_data/products/products_0037_3543776_to_3618053.xml', mode 'r' at 0x16997b780>"
       ]
      },
      {
       "output_type": "stream",
       "stream": "stdout",
       "text": [
        "\n",
        "<open file '../data/product_data/products/products_0038_3618062_to_3691856.xml', mode 'r' at 0x10c71b780>"
       ]
      },
      {
       "output_type": "stream",
       "stream": "stdout",
       "text": [
        "\n",
        "<open file '../data/product_data/products/products_0039_3691865_to_3781982.xml', mode 'r' at 0x136a430c0>"
       ]
      },
      {
       "output_type": "stream",
       "stream": "stdout",
       "text": [
        "\n",
        "<open file '../data/product_data/products/products_0040_3781991_to_3868519.xml', mode 'r' at 0x104b431e0>"
       ]
      },
      {
       "output_type": "stream",
       "stream": "stdout",
       "text": [
        "\n",
        "<open file '../data/product_data/products/products_0041_3868528_to_3952208.xml', mode 'r' at 0x128563270>"
       ]
      },
      {
       "output_type": "stream",
       "stream": "stdout",
       "text": [
        "\n",
        "<open file '../data/product_data/products/products_0042_3952217_to_4040683.xml', mode 'r' at 0x1159729c0>"
       ]
      },
      {
       "output_type": "stream",
       "stream": "stdout",
       "text": [
        "\n",
        "<open file '../data/product_data/products/products_0043_4040692_to_4133508.xml', mode 'r' at 0x115935ae0>"
       ]
      },
      {
       "output_type": "stream",
       "stream": "stdout",
       "text": [
        "\n",
        "<open file '../data/product_data/products/products_0044_4133529_to_4230558.xml', mode 'r' at 0x1bdbf0780>"
       ]
      },
      {
       "output_type": "stream",
       "stream": "stdout",
       "text": [
        "\n",
        "<open file '../data/product_data/products/products_0045_4230576_to_4326232.xml', mode 'r' at 0x1d49fc6f0>"
       ]
      },
      {
       "output_type": "stream",
       "stream": "stdout",
       "text": [
        "\n",
        "<open file '../data/product_data/products/products_0046_4326241_to_4516198.xml', mode 'r' at 0x18f971e40>"
       ]
      },
      {
       "output_type": "stream",
       "stream": "stdout",
       "text": [
        "\n",
        "<open file '../data/product_data/products/products_0047_4516223_to_4625542.xml', mode 'r' at 0x113c6ae40>"
       ]
      },
      {
       "output_type": "stream",
       "stream": "stdout",
       "text": [
        "\n",
        "<open file '../data/product_data/products/products_0048_4625551_to_4725585.xml', mode 'r' at 0x1a806d660>"
       ]
      },
      {
       "output_type": "stream",
       "stream": "stdout",
       "text": [
        "\n",
        "<open file '../data/product_data/products/products_0049_4725587_to_4810643.xml', mode 'r' at 0x1cd233c00>"
       ]
      },
      {
       "output_type": "stream",
       "stream": "stdout",
       "text": [
        "\n",
        "<open file '../data/product_data/products/products_0050_4810661_to_4879784.xml', mode 'r' at 0x1e68688a0>"
       ]
      },
      {
       "output_type": "stream",
       "stream": "stdout",
       "text": [
        "\n",
        "<open file '../data/product_data/products/products_0051_4879787_to_4959691.xml', mode 'r' at 0x127f39390>"
       ]
      },
      {
       "output_type": "stream",
       "stream": "stdout",
       "text": [
        "\n",
        "<open file '../data/product_data/products/products_0052_4959708_to_5051409.xml', mode 'r' at 0x1205194b0>"
       ]
      },
      {
       "output_type": "stream",
       "stream": "stdout",
       "text": [
        "\n",
        "<open file '../data/product_data/products/products_0053_5051427_to_5196922.xml', mode 'r' at 0x189ed96f0>"
       ]
      },
      {
       "output_type": "stream",
       "stream": "stdout",
       "text": [
        "\n",
        "<open file '../data/product_data/products/products_0054_5196931_to_5288949.xml', mode 'r' at 0x1a6f7f660>"
       ]
      },
      {
       "output_type": "stream",
       "stream": "stdout",
       "text": [
        "\n",
        "<open file '../data/product_data/products/products_0055_5288951_to_5412243.xml', mode 'r' at 0x174306e40>"
       ]
      },
      {
       "output_type": "stream",
       "stream": "stdout",
       "text": [
        "\n",
        "<open file '../data/product_data/products/products_0056_5412252_to_5573998.xml', mode 'r' at 0x126c6c270>"
       ]
      },
      {
       "output_type": "stream",
       "stream": "stdout",
       "text": [
        "\n",
        "<open file '../data/product_data/products/products_0057_5574014_to_5749942.xml', mode 'r' at 0x15f2145d0>"
       ]
      },
      {
       "output_type": "stream",
       "stream": "stdout",
       "text": [
        "\n",
        "<open file '../data/product_data/products/products_0058_5749951_to_5929944.xml', mode 'r' at 0x1bbfc4f60>"
       ]
      },
      {
       "output_type": "stream",
       "stream": "stdout",
       "text": [
        "\n",
        "<open file '../data/product_data/products/products_0059_5929953_to_6014733.xml', mode 'r' at 0x1054aad20>"
       ]
      },
      {
       "output_type": "stream",
       "stream": "stdout",
       "text": [
        "\n",
        "<open file '../data/product_data/products/products_0060_6014751_to_6089564.xml', mode 'r' at 0x1a1f52d20>"
       ]
      },
      {
       "output_type": "stream",
       "stream": "stdout",
       "text": [
        "\n",
        "<open file '../data/product_data/products/products_0061_6089573_to_6167961.xml', mode 'r' at 0x10de0c660>"
       ]
      },
      {
       "output_type": "stream",
       "stream": "stdout",
       "text": [
        "\n",
        "<open file '../data/product_data/products/products_0062_6167989_to_6299917.xml', mode 'r' at 0x19c4520c0>"
       ]
      },
      {
       "output_type": "stream",
       "stream": "stdout",
       "text": [
        "\n",
        "<open file '../data/product_data/products/products_0063_6299926_to_6448267.xml', mode 'r' at 0x1e3ea10c0>"
       ]
      },
      {
       "output_type": "stream",
       "stream": "stdout",
       "text": [
        "\n",
        "<open file '../data/product_data/products/products_0064_6448276_to_6685919.xml', mode 'r' at 0x1507e5660>"
       ]
      },
      {
       "output_type": "stream",
       "stream": "stdout",
       "text": [
        "\n",
        "<open file '../data/product_data/products/products_0065_6685928_to_6785115.xml', mode 'r' at 0x1407955d0>"
       ]
      },
      {
       "output_type": "stream",
       "stream": "stdout",
       "text": [
        "\n",
        "<open file '../data/product_data/products/products_0066_6785124_to_6877613.xml', mode 'r' at 0x19f7c10c0>"
       ]
      },
      {
       "output_type": "stream",
       "stream": "stdout",
       "text": [
        "\n",
        "<open file '../data/product_data/products/products_0067_6877702_to_6976025.xml', mode 'r' at 0x137491780>"
       ]
      },
      {
       "output_type": "stream",
       "stream": "stdout",
       "text": [
        "\n",
        "<open file '../data/product_data/products/products_0068_6976034_to_7062867.xml', mode 'r' at 0x1e75d3030>"
       ]
      },
      {
       "output_type": "stream",
       "stream": "stdout",
       "text": [
        "\n",
        "<open file '../data/product_data/products/products_0069_7062876_to_7193262.xml', mode 'r' at 0x121c2f270>"
       ]
      },
      {
       "output_type": "stream",
       "stream": "stdout",
       "text": [
        "\n",
        "<open file '../data/product_data/products/products_0070_7193271_to_7281309.xml', mode 'r' at 0x17e129ae0>"
       ]
      },
      {
       "output_type": "stream",
       "stream": "stdout",
       "text": [
        "\n",
        "<open file '../data/product_data/products/products_0071_7281318_to_7425574.xml', mode 'r' at 0x13c94e030>"
       ]
      },
      {
       "output_type": "stream",
       "stream": "stdout",
       "text": [
        "\n",
        "<open file '../data/product_data/products/products_0072_7425583_to_7565182.xml', mode 'r' at 0x12bd0e8a0>"
       ]
      },
      {
       "output_type": "stream",
       "stream": "stdout",
       "text": [
        "\n",
        "<open file '../data/product_data/products/products_0073_7565379_to_7675367.xml', mode 'r' at 0x1b0ad15d0>"
       ]
      },
      {
       "output_type": "stream",
       "stream": "stdout",
       "text": [
        "\n",
        "<open file '../data/product_data/products/products_0074_7675401_to_7767749.xml', mode 'r' at 0x112faff60>"
       ]
      },
      {
       "output_type": "stream",
       "stream": "stdout",
       "text": [
        "\n",
        "<open file '../data/product_data/products/products_0075_7767767_to_7873009.xml', mode 'r' at 0x1839ad1e0>"
       ]
      },
      {
       "output_type": "stream",
       "stream": "stdout",
       "text": [
        "\n",
        "<open file '../data/product_data/products/products_0076_7873018_to_7969638.xml', mode 'r' at 0x1c22a3c00>"
       ]
      },
      {
       "output_type": "stream",
       "stream": "stdout",
       "text": [
        "\n",
        "<open file '../data/product_data/products/products_0077_7969647_to_8107443.xml', mode 'r' at 0x1e3a421e0>"
       ]
      },
      {
       "output_type": "stream",
       "stream": "stdout",
       "text": [
        "\n",
        "<open file '../data/product_data/products/products_0078_8107452_to_8225388.xml', mode 'r' at 0x1860eb420>"
       ]
      },
      {
       "output_type": "stream",
       "stream": "stdout",
       "text": [
        "\n",
        "<open file '../data/product_data/products/products_0079_8225397_to_8315931.xml', mode 'r' at 0x1754c8930>"
       ]
      },
      {
       "output_type": "stream",
       "stream": "stdout",
       "text": [
        "\n",
        "<open file '../data/product_data/products/products_0080_8315959_to_8400517.xml', mode 'r' at 0x11f18e270>"
       ]
      },
      {
       "output_type": "stream",
       "stream": "stdout",
       "text": [
        "\n",
        "<open file '../data/product_data/products/products_0081_8400544_to_8498477.xml', mode 'r' at 0x182f001e0>"
       ]
      },
      {
       "output_type": "stream",
       "stream": "stdout",
       "text": [
        "\n",
        "<open file '../data/product_data/products/products_0082_8498486_to_8588414.xml', mode 'r' at 0x12a3d6270>"
       ]
      },
      {
       "output_type": "stream",
       "stream": "stdout",
       "text": [
        "\n",
        "<open file '../data/product_data/products/products_0083_8588432_to_8680233.xml', mode 'r' at 0x10ea87c00>"
       ]
      },
      {
       "output_type": "stream",
       "stream": "stdout",
       "text": [
        "\n",
        "<open file '../data/product_data/products/products_0084_8680242_to_8771929.xml', mode 'r' at 0x1fabb2f60>"
       ]
      },
      {
       "output_type": "stream",
       "stream": "stdout",
       "text": [
        "\n",
        "<open file '../data/product_data/products/products_0085_8771938_to_8856419.xml', mode 'r' at 0x17e1f1a50>"
       ]
      },
      {
       "output_type": "stream",
       "stream": "stdout",
       "text": [
        "\n",
        "<open file '../data/product_data/products/products_0086_8856428_to_8944789.xml', mode 'r' at 0x1d2ea9420>"
       ]
      },
      {
       "output_type": "stream",
       "stream": "stdout",
       "text": [
        "\n",
        "<open file '../data/product_data/products/products_0087_8944798_to_9037801.xml', mode 'r' at 0x1bd4c0a50>"
       ]
      },
      {
       "output_type": "stream",
       "stream": "stdout",
       "text": [
        "\n",
        "<open file '../data/product_data/products/products_0088_9037829_to_9123272.xml', mode 'r' at 0x1bf0c01e0>"
       ]
      },
      {
       "output_type": "stream",
       "stream": "stdout",
       "text": [
        "\n",
        "<open file '../data/product_data/products/products_0089_9123281_to_9216485.xml', mode 'r' at 0x179b74420>"
       ]
      },
      {
       "output_type": "stream",
       "stream": "stdout",
       "text": [
        "\n",
        "<open file '../data/product_data/products/products_0090_9216494_to_9305673.xml', mode 'r' at 0x193a39780>"
       ]
      },
      {
       "output_type": "stream",
       "stream": "stdout",
       "text": [
        "\n",
        "<open file '../data/product_data/products/products_0091_9305682_to_9393364.xml', mode 'r' at 0x1cf4e3b70>"
       ]
      },
      {
       "output_type": "stream",
       "stream": "stdout",
       "text": [
        "\n",
        "<open file '../data/product_data/products/products_0092_9393373_to_9489038.xml', mode 'r' at 0x125549540>"
       ]
      },
      {
       "output_type": "stream",
       "stream": "stdout",
       "text": [
        "\n",
        "<open file '../data/product_data/products/products_0093_9489047_to_9572811.xml', mode 'r' at 0x1813c0c90>"
       ]
      },
      {
       "output_type": "stream",
       "stream": "stdout",
       "text": [
        "\n",
        "<open file '../data/product_data/products/products_0094_9572839_to_9709324.xml', mode 'r' at 0x12412c390>"
       ]
      },
      {
       "output_type": "stream",
       "stream": "stdout",
       "text": [
        "\n",
        "<open file '../data/product_data/products/products_0095_9709333_to_9825279.xml', mode 'r' at 0x1d5f6e5d0>"
       ]
      },
      {
       "output_type": "stream",
       "stream": "stdout",
       "text": [
        "\n",
        "<open file '../data/product_data/products/products_0096_9825321_to_9942574.xml', mode 'r' at 0x1a28e9780>"
       ]
      },
      {
       "output_type": "stream",
       "stream": "stdout",
       "text": [
        "\n",
        "<open file '../data/product_data/products/products_0097_9942583_to_10127329.xml', mode 'r' at 0x14a0abc00>"
       ]
      },
      {
       "output_type": "stream",
       "stream": "stdout",
       "text": [
        "\n",
        "<open file '../data/product_data/products/products_0098_10127365_to_10203898.xml', mode 'r' at 0x1892a3db0>"
       ]
      },
      {
       "output_type": "stream",
       "stream": "stdout",
       "text": [
        "\n",
        "<open file '../data/product_data/products/products_0099_10203969_to_10281018.xml', mode 'r' at 0x121c41660>"
       ]
      },
      {
       "output_type": "stream",
       "stream": "stdout",
       "text": [
        "\n",
        "<open file '../data/product_data/products/products_0100_10281045_to_10359676.xml', mode 'r' at 0x19f760390>"
       ]
      },
      {
       "output_type": "stream",
       "stream": "stdout",
       "text": [
        "\n",
        "<open file '../data/product_data/products/products_0101_10359694_to_10436833.xml', mode 'r' at 0x1710dfa50>"
       ]
      },
      {
       "output_type": "stream",
       "stream": "stdout",
       "text": [
        "\n",
        "<open file '../data/product_data/products/products_0102_10436842_to_10511243.xml', mode 'r' at 0x1a9e45f60>"
       ]
      },
      {
       "output_type": "stream",
       "stream": "stdout",
       "text": [
        "\n",
        "<open file '../data/product_data/products/products_0103_10511252_to_10590817.xml', mode 'r' at 0x1b659f390>"
       ]
      },
      {
       "output_type": "stream",
       "stream": "stdout",
       "text": [
        "\n",
        "<open file '../data/product_data/products/products_0104_10590826_to_10667851.xml', mode 'r' at 0x170367030>"
       ]
      },
      {
       "output_type": "stream",
       "stream": "stdout",
       "text": [
        "\n",
        "<open file '../data/product_data/products/products_0105_10667904_to_10740353.xml', mode 'r' at 0x187469f60>"
       ]
      },
      {
       "output_type": "stream",
       "stream": "stdout",
       "text": [
        "\n",
        "<open file '../data/product_data/products/products_0106_10740362_to_10811357.xml', mode 'r' at 0x1e2de1c00>"
       ]
      },
      {
       "output_type": "stream",
       "stream": "stdout",
       "text": [
        "\n",
        "<open file '../data/product_data/products/products_0107_10811366_to_10888881.xml', mode 'r' at 0x1cb19bb70>"
       ]
      },
      {
       "output_type": "stream",
       "stream": "stdout",
       "text": [
        "\n",
        "<open file '../data/product_data/products/products_0108_10888907_to_10972432.xml', mode 'r' at 0x15c42d780>"
       ]
      },
      {
       "output_type": "stream",
       "stream": "stdout",
       "text": [
        "\n",
        "<open file '../data/product_data/products/products_0109_10972441_to_11054226.xml', mode 'r' at 0x1229f7270>"
       ]
      },
      {
       "output_type": "stream",
       "stream": "stdout",
       "text": [
        "\n",
        "<open file '../data/product_data/products/products_0110_11054235_to_11127345.xml', mode 'r' at 0x125150c90>"
       ]
      },
      {
       "output_type": "stream",
       "stream": "stdout",
       "text": [
        "\n",
        "<open file '../data/product_data/products/products_0111_11127354_to_11203208.xml', mode 'r' at 0x1328dc540>"
       ]
      },
      {
       "output_type": "stream",
       "stream": "stdout",
       "text": [
        "\n",
        "<open file '../data/product_data/products/products_0112_11203235_to_11280696.xml', mode 'r' at 0x12814fae0>"
       ]
      },
      {
       "output_type": "stream",
       "stream": "stdout",
       "text": [
        "\n",
        "<open file '../data/product_data/products/products_0113_11280712_to_11358988.xml', mode 'r' at 0x159c2ed20>"
       ]
      },
      {
       "output_type": "stream",
       "stream": "stdout",
       "text": [
        "\n",
        "<open file '../data/product_data/products/products_0114_11358997_to_11436485.xml', mode 'r' at 0x1e7b48c90>"
       ]
      },
      {
       "output_type": "stream",
       "stream": "stdout",
       "text": [
        "\n",
        "<open file '../data/product_data/products/products_0115_11436494_to_11514097.xml', mode 'r' at 0x11e062ae0>"
       ]
      },
      {
       "output_type": "stream",
       "stream": "stdout",
       "text": [
        "\n",
        "<open file '../data/product_data/products/products_0116_11514104_to_11594438.xml', mode 'r' at 0x12e06b540>"
       ]
      },
      {
       "output_type": "stream",
       "stream": "stdout",
       "text": [
        "\n",
        "<open file '../data/product_data/products/products_0117_11594447_to_11666315.xml', mode 'r' at 0x199a9cd20>"
       ]
      },
      {
       "output_type": "stream",
       "stream": "stdout",
       "text": [
        "\n",
        "<open file '../data/product_data/products/products_0118_11666324_to_11716645.xml', mode 'r' at 0x1e3a81c00>"
       ]
      },
      {
       "output_type": "stream",
       "stream": "stdout",
       "text": [
        "\n",
        "<open file '../data/product_data/products/products_0119_11716654_to_11768312.xml', mode 'r' at 0x22e159030>"
       ]
      },
      {
       "output_type": "stream",
       "stream": "stdout",
       "text": [
        "\n",
        "<open file '../data/product_data/products/products_0120_11768321_to_11821246.xml', mode 'r' at 0x1b945e9c0>"
       ]
      },
      {
       "output_type": "stream",
       "stream": "stdout",
       "text": [
        "\n",
        "<open file '../data/product_data/products/products_0121_11821255_to_11872048.xml', mode 'r' at 0x1069ce9c0>"
       ]
      },
      {
       "output_type": "stream",
       "stream": "stdout",
       "text": [
        "\n",
        "<open file '../data/product_data/products/products_0122_11872057_to_11922459.xml', mode 'r' at 0x1796de6f0>"
       ]
      },
      {
       "output_type": "stream",
       "stream": "stdout",
       "text": [
        "\n",
        "<open file '../data/product_data/products/products_0123_11922468_to_11982526.xml', mode 'r' at 0x1881f8030>"
       ]
      },
      {
       "output_type": "stream",
       "stream": "stdout",
       "text": [
        "\n",
        "<open file '../data/product_data/products/products_0124_11982535_to_12038831.xml', mode 'r' at 0x112faff60>"
       ]
      },
      {
       "output_type": "stream",
       "stream": "stdout",
       "text": [
        "\n",
        "<open file '../data/product_data/products/products_0125_12038841_to_12092381.xml', mode 'r' at 0x122c79db0>"
       ]
      },
      {
       "output_type": "stream",
       "stream": "stdout",
       "text": [
        "\n",
        "<open file '../data/product_data/products/products_0126_12092399_to_12146288.xml', mode 'r' at 0x1314085d0>"
       ]
      },
      {
       "output_type": "stream",
       "stream": "stdout",
       "text": [
        "\n",
        "<open file '../data/product_data/products/products_0127_12146297_to_12201565.xml', mode 'r' at 0x1725d56f0>"
       ]
      },
      {
       "output_type": "stream",
       "stream": "stdout",
       "text": [
        "\n",
        "<open file '../data/product_data/products/products_0128_12201574_to_12256248.xml', mode 'r' at 0x1057bb780>"
       ]
      },
      {
       "output_type": "stream",
       "stream": "stdout",
       "text": [
        "\n",
        "<open file '../data/product_data/products/products_0129_12256275_to_12309655.xml', mode 'r' at 0x137aa55d0>"
       ]
      },
      {
       "output_type": "stream",
       "stream": "stdout",
       "text": [
        "\n",
        "<open file '../data/product_data/products/products_0130_12309664_to_12363186.xml', mode 'r' at 0x13bbdf5d0>"
       ]
      },
      {
       "output_type": "stream",
       "stream": "stdout",
       "text": [
        "\n",
        "<open file '../data/product_data/products/products_0131_12363195_to_12418261.xml', mode 'r' at 0x136aea5d0>"
       ]
      },
      {
       "output_type": "stream",
       "stream": "stdout",
       "text": [
        "\n",
        "<open file '../data/product_data/products/products_0132_12418271_to_12472121.xml', mode 'r' at 0x123250ae0>"
       ]
      },
      {
       "output_type": "stream",
       "stream": "stdout",
       "text": [
        "\n",
        "<open file '../data/product_data/products/products_0133_12472139_to_12528669.xml', mode 'r' at 0x121e8a540>"
       ]
      },
      {
       "output_type": "stream",
       "stream": "stdout",
       "text": [
        "\n",
        "<open file '../data/product_data/products/products_0134_12528678_to_12585286.xml', mode 'r' at 0x13ddccae0>"
       ]
      },
      {
       "output_type": "stream",
       "stream": "stdout",
       "text": [
        "\n",
        "<open file '../data/product_data/products/products_0135_12585295_to_12641439.xml', mode 'r' at 0x22c62f540>"
       ]
      },
      {
       "output_type": "stream",
       "stream": "stdout",
       "text": [
        "\n",
        "<open file '../data/product_data/products/products_0136_12641448_to_12694701.xml', mode 'r' at 0x10a5009c0>"
       ]
      },
      {
       "output_type": "stream",
       "stream": "stdout",
       "text": [
        "\n",
        "<open file '../data/product_data/products/products_0137_12694711_to_12748814.xml', mode 'r' at 0x12587fe40>"
       ]
      },
      {
       "output_type": "stream",
       "stream": "stdout",
       "text": [
        "\n",
        "<open file '../data/product_data/products/products_0138_12748823_to_12810586.xml', mode 'r' at 0x16ec9b150>"
       ]
      },
      {
       "output_type": "stream",
       "stream": "stdout",
       "text": [
        "\n",
        "<open file '../data/product_data/products/products_0139_12810595_to_12867953.xml', mode 'r' at 0x179bcb5d0>"
       ]
      },
      {
       "output_type": "stream",
       "stream": "stdout",
       "text": [
        "\n",
        "<open file '../data/product_data/products/products_0140_12867962_to_12951264.xml', mode 'r' at 0x10c137930>"
       ]
      },
      {
       "output_type": "stream",
       "stream": "stdout",
       "text": [
        "\n",
        "<open file '../data/product_data/products/products_0141_12951273_to_13024292.xml', mode 'r' at 0x174e8c9c0>"
       ]
      },
      {
       "output_type": "stream",
       "stream": "stdout",
       "text": [
        "\n",
        "<open file '../data/product_data/products/products_0142_13024309_to_13084137.xml', mode 'r' at 0x10f1b0c00>"
       ]
      },
      {
       "output_type": "stream",
       "stream": "stdout",
       "text": [
        "\n",
        "<open file '../data/product_data/products/products_0143_13084146_to_13158058.xml', mode 'r' at 0x1c8c72f60>"
       ]
      },
      {
       "output_type": "stream",
       "stream": "stdout",
       "text": [
        "\n",
        "<open file '../data/product_data/products/products_0144_13158067_to_13245954.xml', mode 'r' at 0x174a6fc90>"
       ]
      },
      {
       "output_type": "stream",
       "stream": "stdout",
       "text": [
        "\n",
        "<open file '../data/product_data/products/products_0145_13245963_to_13328776.xml', mode 'r' at 0x138b88c00>"
       ]
      },
      {
       "output_type": "stream",
       "stream": "stdout",
       "text": [
        "\n",
        "<open file '../data/product_data/products/products_0146_13328785_to_13417778.xml', mode 'r' at 0x1e68688a0>"
       ]
      },
      {
       "output_type": "stream",
       "stream": "stdout",
       "text": [
        "\n",
        "<open file '../data/product_data/products/products_0147_13417787_to_13491018.xml', mode 'r' at 0x13441d8a0>"
       ]
      },
      {
       "output_type": "stream",
       "stream": "stdout",
       "text": [
        "\n",
        "<open file '../data/product_data/products/products_0148_13491027_to_13563468.xml', mode 'r' at 0x193bc75d0>"
       ]
      },
      {
       "output_type": "stream",
       "stream": "stdout",
       "text": [
        "\n",
        "<open file '../data/product_data/products/products_0149_13563477_to_13646897.xml', mode 'r' at 0x126de5810>"
       ]
      },
      {
       "output_type": "stream",
       "stream": "stdout",
       "text": [
        "\n",
        "<open file '../data/product_data/products/products_0150_13646904_to_13735238.xml', mode 'r' at 0x150726780>"
       ]
      },
      {
       "output_type": "stream",
       "stream": "stdout",
       "text": [
        "\n",
        "<open file '../data/product_data/products/products_0151_13735247_to_13821199.xml', mode 'r' at 0x1a9ea2a50>"
       ]
      },
      {
       "output_type": "stream",
       "stream": "stdout",
       "text": [
        "\n",
        "<open file '../data/product_data/products/products_0152_13821206_to_13890186.xml', mode 'r' at 0x16b8b50c0>"
       ]
      },
      {
       "output_type": "stream",
       "stream": "stdout",
       "text": [
        "\n",
        "<open file '../data/product_data/products/products_0153_13890195_to_13954269.xml', mode 'r' at 0x15cce5c00>"
       ]
      },
      {
       "output_type": "stream",
       "stream": "stdout",
       "text": [
        "\n",
        "<open file '../data/product_data/products/products_0154_13954278_to_14012757.xml', mode 'r' at 0x16f89a300>"
       ]
      },
      {
       "output_type": "stream",
       "stream": "stdout",
       "text": [
        "\n",
        "<open file '../data/product_data/products/products_0155_14012766_to_14073245.xml', mode 'r' at 0x10ac16ed0>"
       ]
      },
      {
       "output_type": "stream",
       "stream": "stdout",
       "text": [
        "\n",
        "<open file '../data/product_data/products/products_0156_14073254_to_14134894.xml', mode 'r' at 0x145020c00>"
       ]
      },
      {
       "output_type": "stream",
       "stream": "stdout",
       "text": [
        "\n",
        "<open file '../data/product_data/products/products_0157_14134901_to_14201829.xml', mode 'r' at 0x150726c00>"
       ]
      },
      {
       "output_type": "stream",
       "stream": "stdout",
       "text": [
        "\n",
        "<open file '../data/product_data/products/products_0158_14201838_to_14273715.xml', mode 'r' at 0x10f6c5420>"
       ]
      },
      {
       "output_type": "stream",
       "stream": "stdout",
       "text": [
        "\n",
        "<open file '../data/product_data/products/products_0159_14273724_to_14333777.xml', mode 'r' at 0x11544e150>"
       ]
      },
      {
       "output_type": "stream",
       "stream": "stdout",
       "text": [
        "\n",
        "<open file '../data/product_data/products/products_0160_14333786_to_14393578.xml', mode 'r' at 0x10900a1e0>"
       ]
      },
      {
       "output_type": "stream",
       "stream": "stdout",
       "text": [
        "\n",
        "<open file '../data/product_data/products/products_0161_14393587_to_14450596.xml', mode 'r' at 0x12f4744b0>"
       ]
      },
      {
       "output_type": "stream",
       "stream": "stdout",
       "text": [
        "\n",
        "<open file '../data/product_data/products/products_0162_14450603_to_14508213.xml', mode 'r' at 0x17f2506f0>"
       ]
      },
      {
       "output_type": "stream",
       "stream": "stdout",
       "text": [
        "\n",
        "<open file '../data/product_data/products/products_0163_14508222_to_14567097.xml', mode 'r' at 0x141379030>"
       ]
      },
      {
       "output_type": "stream",
       "stream": "stdout",
       "text": [
        "\n",
        "<open file '../data/product_data/products/products_0164_14567104_to_14626639.xml', mode 'r' at 0x18acc9780>"
       ]
      },
      {
       "output_type": "stream",
       "stream": "stdout",
       "text": [
        "\n",
        "<open file '../data/product_data/products/products_0165_14626648_to_14689964.xml', mode 'r' at 0x1809d3f60>"
       ]
      },
      {
       "output_type": "stream",
       "stream": "stdout",
       "text": [
        "\n",
        "<open file '../data/product_data/products/products_0166_14689973_to_14754722.xml', mode 'r' at 0x10ad8a540>"
       ]
      },
      {
       "output_type": "stream",
       "stream": "stdout",
       "text": [
        "\n",
        "<open file '../data/product_data/products/products_0167_14754731_to_14825692.xml', mode 'r' at 0x1c59edc90>"
       ]
      },
      {
       "output_type": "stream",
       "stream": "stdout",
       "text": [
        "\n",
        "<open file '../data/product_data/products/products_0168_14825709_to_14881826.xml', mode 'r' at 0x14c7e7780>"
       ]
      },
      {
       "output_type": "stream",
       "stream": "stdout",
       "text": [
        "\n",
        "<open file '../data/product_data/products/products_0169_14881835_to_14939034.xml', mode 'r' at 0x1e4f74420>"
       ]
      },
      {
       "output_type": "stream",
       "stream": "stdout",
       "text": [
        "\n",
        "<open file '../data/product_data/products/products_0170_14939043_to_14997033.xml', mode 'r' at 0x1398d7300>"
       ]
      },
      {
       "output_type": "stream",
       "stream": "stdout",
       "text": [
        "\n",
        "<open file '../data/product_data/products/products_0171_14997042_to_15053763.xml', mode 'r' at 0x1776194b0>"
       ]
      },
      {
       "output_type": "stream",
       "stream": "stdout",
       "text": [
        "\n",
        "<open file '../data/product_data/products/products_0172_15053772_to_15110247.xml', mode 'r' at 0x1323870c0>"
       ]
      },
      {
       "output_type": "stream",
       "stream": "stdout",
       "text": [
        "\n",
        "<open file '../data/product_data/products/products_0173_15110256_to_15166909.xml', mode 'r' at 0x11b220ae0>"
       ]
      },
      {
       "output_type": "stream",
       "stream": "stdout",
       "text": [
        "\n",
        "<open file '../data/product_data/products/products_0174_15166918_to_15226006.xml', mode 'r' at 0x155643ae0>"
       ]
      },
      {
       "output_type": "stream",
       "stream": "stdout",
       "text": [
        "\n",
        "<open file '../data/product_data/products/products_0175_15226015_to_15282775.xml', mode 'r' at 0x16c2dd6f0>"
       ]
      },
      {
       "output_type": "stream",
       "stream": "stdout",
       "text": [
        "\n",
        "<open file '../data/product_data/products/products_0176_15282784_to_15339108.xml', mode 'r' at 0x16f89a810>"
       ]
      },
      {
       "output_type": "stream",
       "stream": "stdout",
       "text": [
        "\n",
        "<open file '../data/product_data/products/products_0177_15339117_to_15398357.xml', mode 'r' at 0x1cd6c3c90>"
       ]
      },
      {
       "output_type": "stream",
       "stream": "stdout",
       "text": [
        "\n",
        "<open file '../data/product_data/products/products_0178_15398366_to_15457578.xml', mode 'r' at 0x11287e420>"
       ]
      },
      {
       "output_type": "stream",
       "stream": "stdout",
       "text": [
        "\n",
        "<open file '../data/product_data/products/products_0179_15457587_to_15514659.xml', mode 'r' at 0x183f77030>"
       ]
      },
      {
       "output_type": "stream",
       "stream": "stdout",
       "text": [
        "\n",
        "<open file '../data/product_data/products/products_0180_15514668_to_15571659.xml', mode 'r' at 0x121e44390>"
       ]
      },
      {
       "output_type": "stream",
       "stream": "stdout",
       "text": [
        "\n",
        "<open file '../data/product_data/products/products_0181_15571668_to_15635671.xml', mode 'r' at 0x160d73f60>"
       ]
      },
      {
       "output_type": "stream",
       "stream": "stdout",
       "text": [
        "\n",
        "<open file '../data/product_data/products/products_0182_15635699_to_15706586.xml', mode 'r' at 0x10c99e270>"
       ]
      },
      {
       "output_type": "stream",
       "stream": "stdout",
       "text": [
        "\n",
        "<open file '../data/product_data/products/products_0183_15706595_to_15778623.xml', mode 'r' at 0x1372b9a50>"
       ]
      },
      {
       "output_type": "stream",
       "stream": "stdout",
       "text": [
        "\n",
        "<open file '../data/product_data/products/products_0184_15778632_to_15842484.xml', mode 'r' at 0x12cebb5d0>"
       ]
      },
      {
       "output_type": "stream",
       "stream": "stdout",
       "text": [
        "\n",
        "<open file '../data/product_data/products/products_0185_15842493_to_15902472.xml', mode 'r' at 0x12d299150>"
       ]
      },
      {
       "output_type": "stream",
       "stream": "stdout",
       "text": [
        "\n",
        "<open file '../data/product_data/products/products_0186_15902481_to_15963138.xml', mode 'r' at 0x12fc700c0>"
       ]
      },
      {
       "output_type": "stream",
       "stream": "stdout",
       "text": [
        "\n",
        "<open file '../data/product_data/products/products_0187_15963147_to_16028923.xml', mode 'r' at 0x1e4f74b70>"
       ]
      },
      {
       "output_type": "stream",
       "stream": "stdout",
       "text": [
        "\n",
        "<open file '../data/product_data/products/products_0188_16028932_to_16101086.xml', mode 'r' at 0x13a9274b0>"
       ]
      },
      {
       "output_type": "stream",
       "stream": "stdout",
       "text": [
        "\n",
        "<open file '../data/product_data/products/products_0189_16101095_to_16164302.xml', mode 'r' at 0x188a0e0c0>"
       ]
      },
      {
       "output_type": "stream",
       "stream": "stdout",
       "text": [
        "\n",
        "<open file '../data/product_data/products/products_0190_16164311_to_16238108.xml', mode 'r' at 0x1ed8248a0>"
       ]
      },
      {
       "output_type": "stream",
       "stream": "stdout",
       "text": [
        "\n",
        "<open file '../data/product_data/products/products_0191_16238796_to_16295812.xml', mode 'r' at 0x1c06108a0>"
       ]
      },
      {
       "output_type": "stream",
       "stream": "stdout",
       "text": [
        "\n",
        "<open file '../data/product_data/products/products_0192_16295821_to_16351387.xml', mode 'r' at 0x1054aaed0>"
       ]
      },
      {
       "output_type": "stream",
       "stream": "stdout",
       "text": [
        "\n",
        "<open file '../data/product_data/products/products_0193_16351396_to_16422239.xml', mode 'r' at 0x16379fae0>"
       ]
      },
      {
       "output_type": "stream",
       "stream": "stdout",
       "text": [
        "\n",
        "<open file '../data/product_data/products/products_0194_16422248_to_16477787.xml', mode 'r' at 0x188a0e6f0>"
       ]
      },
      {
       "output_type": "stream",
       "stream": "stdout",
       "text": [
        "\n",
        "<open file '../data/product_data/products/products_0195_16477796_to_16533333.xml', mode 'r' at 0x1054aad20>"
       ]
      },
      {
       "output_type": "stream",
       "stream": "stdout",
       "text": [
        "\n",
        "<open file '../data/product_data/products/products_0196_16533342_to_16592215.xml', mode 'r' at 0x14125fed0>"
       ]
      },
      {
       "output_type": "stream",
       "stream": "stdout",
       "text": [
        "\n",
        "<open file '../data/product_data/products/products_0197_16592224_to_16661284.xml', mode 'r' at 0x1bcc375d0>"
       ]
      },
      {
       "output_type": "stream",
       "stream": "stdout",
       "text": [
        "\n",
        "<open file '../data/product_data/products/products_0198_16661293_to_16725475.xml', mode 'r' at 0x1e5b75420>"
       ]
      },
      {
       "output_type": "stream",
       "stream": "stdout",
       "text": [
        "\n",
        "<open file '../data/product_data/products/products_0199_16725484_to_16792222.xml', mode 'r' at 0x10c71bed0>"
       ]
      },
      {
       "output_type": "stream",
       "stream": "stdout",
       "text": [
        "\n",
        "<open file '../data/product_data/products/products_0200_16792231_to_16862496.xml', mode 'r' at 0x175a40ed0>"
       ]
      },
      {
       "output_type": "stream",
       "stream": "stdout",
       "text": [
        "\n",
        "<open file '../data/product_data/products/products_0201_16862502_to_16928185.xml', mode 'r' at 0x1f8072c00>"
       ]
      },
      {
       "output_type": "stream",
       "stream": "stdout",
       "text": [
        "\n",
        "<open file '../data/product_data/products/products_0202_16928194_to_16996609.xml', mode 'r' at 0x19c3fd0c0>"
       ]
      },
      {
       "output_type": "stream",
       "stream": "stdout",
       "text": [
        "\n",
        "<open file '../data/product_data/products/products_0203_16996618_to_17065284.xml', mode 'r' at 0x108e03ed0>"
       ]
      },
      {
       "output_type": "stream",
       "stream": "stdout",
       "text": [
        "\n",
        "<open file '../data/product_data/products/products_0204_17065293_to_17144323.xml', mode 'r' at 0x1131a6300>"
       ]
      },
      {
       "output_type": "stream",
       "stream": "stdout",
       "text": [
        "\n",
        "<open file '../data/product_data/products/products_0205_17144332_to_17207023.xml', mode 'r' at 0x1da626ae0>"
       ]
      },
      {
       "output_type": "stream",
       "stream": "stdout",
       "text": [
        "\n",
        "<open file '../data/product_data/products/products_0206_17207032_to_17270551.xml', mode 'r' at 0x12d299db0>"
       ]
      },
      {
       "output_type": "stream",
       "stream": "stdout",
       "text": [
        "\n",
        "<open file '../data/product_data/products/products_0207_17270579_to_17335288.xml', mode 'r' at 0x164b7d1e0>"
       ]
      },
      {
       "output_type": "stream",
       "stream": "stdout",
       "text": [
        "\n",
        "<open file '../data/product_data/products/products_0208_17335297_to_17399316.xml', mode 'r' at 0x1372126f0>"
       ]
      },
      {
       "output_type": "stream",
       "stream": "stdout",
       "text": [
        "\n",
        "<open file '../data/product_data/products/products_0209_17399325_to_17465752.xml', mode 'r' at 0x137aa5ed0>"
       ]
      },
      {
       "output_type": "stream",
       "stream": "stdout",
       "text": [
        "\n",
        "<open file '../data/product_data/products/products_0210_17465761_to_17538942.xml', mode 'r' at 0x1674db780>"
       ]
      },
      {
       "output_type": "stream",
       "stream": "stdout",
       "text": [
        "\n",
        "<open file '../data/product_data/products/products_0211_17538951_to_17616028.xml', mode 'r' at 0x1e05c1660>"
       ]
      },
      {
       "output_type": "stream",
       "stream": "stdout",
       "text": [
        "\n",
        "<open file '../data/product_data/products/products_0212_17616037_to_17695898.xml', mode 'r' at 0x1230b5c90>"
       ]
      },
      {
       "output_type": "stream",
       "stream": "stdout",
       "text": [
        "\n",
        "<open file '../data/product_data/products/products_0213_17695905_to_17776998.xml', mode 'r' at 0x111dff6f0>"
       ]
      },
      {
       "output_type": "stream",
       "stream": "stdout",
       "text": [
        "\n",
        "<open file '../data/product_data/products/products_0214_17777005_to_17842836.xml', mode 'r' at 0x11f4168a0>"
       ]
      },
      {
       "output_type": "stream",
       "stream": "stdout",
       "text": [
        "\n",
        "<open file '../data/product_data/products/products_0215_17842845_to_17913395.xml', mode 'r' at 0x19e60ed20>"
       ]
      },
      {
       "output_type": "stream",
       "stream": "stdout",
       "text": [
        "\n",
        "<open file '../data/product_data/products/products_0216_17913402_to_17990523.xml', mode 'r' at 0x10de0cc90>"
       ]
      },
      {
       "output_type": "stream",
       "stream": "stdout",
       "text": [
        "\n",
        "<open file '../data/product_data/products/products_0217_17990532_to_18069368.xml', mode 'r' at 0x18ca03420>"
       ]
      },
      {
       "output_type": "stream",
       "stream": "stdout",
       "text": [
        "\n",
        "<open file '../data/product_data/products/products_0218_18069377_to_18138392.xml', mode 'r' at 0x210b78f60>"
       ]
      },
      {
       "output_type": "stream",
       "stream": "stdout",
       "text": [
        "\n",
        "<open file '../data/product_data/products/products_0219_18138409_to_18197069.xml', mode 'r' at 0x15ca21ed0>"
       ]
      },
      {
       "output_type": "stream",
       "stream": "stdout",
       "text": [
        "\n",
        "<open file '../data/product_data/products/products_0220_18197078_to_18274272.xml', mode 'r' at 0x123b46420>"
       ]
      },
      {
       "output_type": "stream",
       "stream": "stdout",
       "text": [
        "\n",
        "<open file '../data/product_data/products/products_0221_18274281_to_18353927.xml', mode 'r' at 0x142197030>"
       ]
      },
      {
       "output_type": "stream",
       "stream": "stdout",
       "text": [
        "\n",
        "<open file '../data/product_data/products/products_0222_18353936_to_18434986.xml', mode 'r' at 0x111c08780>"
       ]
      },
      {
       "output_type": "stream",
       "stream": "stdout",
       "text": [
        "\n",
        "<open file '../data/product_data/products/products_0223_18434995_to_18509097.xml', mode 'r' at 0x17f2508a0>"
       ]
      },
      {
       "output_type": "stream",
       "stream": "stdout",
       "text": [
        "\n",
        "<open file '../data/product_data/products/products_0224_18509103_to_18587072.xml', mode 'r' at 0x1945a7c00>"
       ]
      },
      {
       "output_type": "stream",
       "stream": "stdout",
       "text": [
        "\n",
        "<open file '../data/product_data/products/products_0225_18587081_to_18658601.xml', mode 'r' at 0x22c62fd20>"
       ]
      },
      {
       "output_type": "stream",
       "stream": "stdout",
       "text": [
        "\n",
        "<open file '../data/product_data/products/products_0226_18658629_to_18733984.xml', mode 'r' at 0x10f9ac540>"
       ]
      },
      {
       "output_type": "stream",
       "stream": "stdout",
       "text": [
        "\n",
        "<open file '../data/product_data/products/products_0227_18733993_to_18807545.xml', mode 'r' at 0x19a0796f0>"
       ]
      },
      {
       "output_type": "stream",
       "stream": "stdout",
       "text": [
        "\n",
        "<open file '../data/product_data/products/products_0228_18807554_to_18879796.xml', mode 'r' at 0x18634ff60>"
       ]
      },
      {
       "output_type": "stream",
       "stream": "stdout",
       "text": [
        "\n",
        "<open file '../data/product_data/products/products_0229_18879805_to_18957609.xml', mode 'r' at 0x11322c030>"
       ]
      },
      {
       "output_type": "stream",
       "stream": "stdout",
       "text": [
        "\n",
        "<open file '../data/product_data/products/products_0230_18957618_to_19040862.xml', mode 'r' at 0x19ce751e0>"
       ]
      },
      {
       "output_type": "stream",
       "stream": "stdout",
       "text": [
        "\n",
        "<open file '../data/product_data/products/products_0231_19040871_to_19108666.xml', mode 'r' at 0x109940660>"
       ]
      },
      {
       "output_type": "stream",
       "stream": "stdout",
       "text": [
        "\n",
        "<open file '../data/product_data/products/products_0232_19108675_to_19176217.xml', mode 'r' at 0x1556b3810>"
       ]
      },
      {
       "output_type": "stream",
       "stream": "stdout",
       "text": [
        "\n",
        "<open file '../data/product_data/products/products_0233_19176226_to_19241687.xml', mode 'r' at 0x19ce75390>"
       ]
      },
      {
       "output_type": "stream",
       "stream": "stdout",
       "text": [
        "\n",
        "<open file '../data/product_data/products/products_0234_19241696_to_19312279.xml', mode 'r' at 0x157019780>"
       ]
      },
      {
       "output_type": "stream",
       "stream": "stdout",
       "text": [
        "\n",
        "<open file '../data/product_data/products/products_0235_19312288_to_19379873.xml', mode 'r' at 0x1220a2810>"
       ]
      },
      {
       "output_type": "stream",
       "stream": "stdout",
       "text": [
        "\n",
        "<open file '../data/product_data/products/products_0236_19379882_to_19452187.xml', mode 'r' at 0x18a725390>"
       ]
      },
      {
       "output_type": "stream",
       "stream": "stdout",
       "text": [
        "\n",
        "<open file '../data/product_data/products/products_0237_19452196_to_19524448.xml', mode 'r' at 0x159c2e4b0>"
       ]
      },
      {
       "output_type": "stream",
       "stream": "stdout",
       "text": [
        "\n",
        "<open file '../data/product_data/products/products_0238_19524457_to_19595711.xml', mode 'r' at 0x1853c5a50>"
       ]
      },
      {
       "output_type": "stream",
       "stream": "stdout",
       "text": [
        "\n",
        "<open file '../data/product_data/products/products_0239_19595739_to_19657975.xml', mode 'r' at 0x175401ed0>"
       ]
      },
      {
       "output_type": "stream",
       "stream": "stdout",
       "text": [
        "\n",
        "<open file '../data/product_data/products/products_0240_19657984_to_19720159.xml', mode 'r' at 0x1154a1150>"
       ]
      },
      {
       "output_type": "stream",
       "stream": "stdout",
       "text": [
        "\n",
        "<open file '../data/product_data/products/products_0241_19720168_to_19788467.xml', mode 'r' at 0x179bcbae0>"
       ]
      },
      {
       "output_type": "stream",
       "stream": "stdout",
       "text": [
        "\n",
        "<open file '../data/product_data/products/products_0242_19788476_to_19863856.xml', mode 'r' at 0x176210e40>"
       ]
      },
      {
       "output_type": "stream",
       "stream": "stdout",
       "text": [
        "\n",
        "<open file '../data/product_data/products/products_0243_19863865_to_19939021.xml', mode 'r' at 0x151ea4390>"
       ]
      },
      {
       "output_type": "stream",
       "stream": "stdout",
       "text": [
        "\n",
        "<open file '../data/product_data/products/products_0244_19939049_to_20004526.xml', mode 'r' at 0x161ab3540>"
       ]
      },
      {
       "output_type": "stream",
       "stream": "stdout",
       "text": [
        "\n",
        "<open file '../data/product_data/products/products_0245_20004535_to_20069152.xml', mode 'r' at 0x12e06bc90>"
       ]
      },
      {
       "output_type": "stream",
       "stream": "stdout",
       "text": [
        "\n",
        "<open file '../data/product_data/products/products_0246_20069161_to_20128686.xml', mode 'r' at 0x132269b70>"
       ]
      },
      {
       "output_type": "stream",
       "stream": "stdout",
       "text": [
        "\n",
        "<open file '../data/product_data/products/products_0247_20128695_to_20193315.xml', mode 'r' at 0x1621578a0>"
       ]
      },
      {
       "output_type": "stream",
       "stream": "stdout",
       "text": [
        "\n",
        "<open file '../data/product_data/products/products_0248_20193324_to_20259269.xml', mode 'r' at 0x19c4526f0>"
       ]
      },
      {
       "output_type": "stream",
       "stream": "stdout",
       "text": [
        "\n",
        "<open file '../data/product_data/products/products_0249_20259278_to_20333085.xml', mode 'r' at 0x14125f390>"
       ]
      },
      {
       "output_type": "stream",
       "stream": "stdout",
       "text": [
        "\n",
        "<open file '../data/product_data/products/products_0250_20333094_to_20397406.xml', mode 'r' at 0x1e3a42f60>"
       ]
      },
      {
       "output_type": "stream",
       "stream": "stdout",
       "text": [
        "\n",
        "<open file '../data/product_data/products/products_0251_20397415_to_20459346.xml', mode 'r' at 0x188a0ee40>"
       ]
      },
      {
       "output_type": "stream",
       "stream": "stdout",
       "text": [
        "\n",
        "<open file '../data/product_data/products/products_0252_20459355_to_999928600050002.xml', mode 'r' at 0x1227b1b70>"
       ]
      },
      {
       "output_type": "stream",
       "stream": "stdout",
       "text": [
        "\n",
        "<open file '../data/product_data/products/products_0253_999928700050000_to_999994800050006.xml', mode 'r' at 0x1e6868c90>"
       ]
      },
      {
       "output_type": "stream",
       "stream": "stdout",
       "text": [
        "\n",
        "<open file '../data/product_data/products/products_0254_999994800050007_to_9999141300050002.xml', mode 'r' at 0x10edae5d0>"
       ]
      },
      {
       "output_type": "stream",
       "stream": "stdout",
       "text": [
        "\n",
        "<open file '../data/product_data/products/products_0255_9999141300050003_to_9999184200050032.xml', mode 'r' at 0x1e3a81c00>"
       ]
      },
      {
       "output_type": "stream",
       "stream": "stdout",
       "text": [
        "\n"
       ]
      }
     ],
     "prompt_number": 126
    },
    {
     "cell_type": "code",
     "collapsed": false,
     "input": [
      "import json\n",
      "with open('data.txt', 'w') as outfile:\n",
      "  json.dump(documents, outfile, sort_keys=True, indent=4, separators=(',', ': '))"
     ],
     "language": "python",
     "metadata": {},
     "outputs": [],
     "prompt_number": 128
    },
    {
     "cell_type": "code",
     "collapsed": false,
     "input": [
      "print len(documents)"
     ],
     "language": "python",
     "metadata": {},
     "outputs": [
      {
       "output_type": "stream",
       "stream": "stdout",
       "text": [
        "1275077\n"
       ]
      }
     ],
     "prompt_number": 129
    },
    {
     "cell_type": "code",
     "collapsed": false,
     "input": [
      "import pysolr"
     ],
     "language": "python",
     "metadata": {},
     "outputs": [],
     "prompt_number": 130
    },
    {
     "cell_type": "code",
     "collapsed": false,
     "input": [
      "solr = pysolr.Solr('http://localhost:8983/solr/', timeout=10)\n",
      "solr.delete(q='*:*')\n",
      "solr.add(documents)"
     ],
     "language": "python",
     "metadata": {},
     "outputs": [
      {
       "metadata": {},
       "output_type": "pyout",
       "prompt_number": 131,
       "text": [
        "u'<?xml version=\"1.0\" encoding=\"UTF-8\"?>\\n<response>\\n<lst name=\"responseHeader\"><int name=\"status\">0</int><int name=\"QTime\">227436</int></lst>\\n</response>\\n'"
       ]
      }
     ],
     "prompt_number": 131
    },
    {
     "cell_type": "code",
     "collapsed": false,
     "input": [
      "nb_results = ('id:7705281' OR 'id:9412619') #figure out how to do an or filter\n",
      "results = solr.search(\"text:'iPod tuner'\", fq=nb_results, rows=10)\n",
      "for result in results:\n",
      "        print result['id']\n",
      "        print result['name']\n",
      "        print result\n"
     ],
     "language": "python",
     "metadata": {},
     "outputs": [
      {
       "ename": "SyntaxError",
       "evalue": "invalid syntax (<ipython-input-157-b1dc2c75fbb7>, line 1)",
       "output_type": "pyerr",
       "traceback": [
        "\u001b[0;36m  File \u001b[0;32m\"<ipython-input-157-b1dc2c75fbb7>\"\u001b[0;36m, line \u001b[0;32m1\u001b[0m\n\u001b[0;31m    nb_results = ('id:7705281' OR 'id:9412619')\u001b[0m\n\u001b[0m                                ^\u001b[0m\n\u001b[0;31mSyntaxError\u001b[0m\u001b[0;31m:\u001b[0m invalid syntax\n"
       ]
      }
     ],
     "prompt_number": 157
    },
    {
     "cell_type": "code",
     "collapsed": false,
     "input": [],
     "language": "python",
     "metadata": {},
     "outputs": []
    }
   ],
   "metadata": {}
  }
 ]
}