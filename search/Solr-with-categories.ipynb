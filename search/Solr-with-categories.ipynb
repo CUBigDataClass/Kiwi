{
 "metadata": {
  "name": "",
  "signature": "sha256:0ad6a1164e477f14d20260c1c5416633ee77b160a227f7da9779f0bd744432cb"
 },
 "nbformat": 3,
 "nbformat_minor": 0,
 "worksheets": [
  {
   "cells": [
    {
     "cell_type": "code",
     "collapsed": true,
     "input": [
      "import glob\n",
      "from bs4 import BeautifulSoup"
     ],
     "language": "python",
     "metadata": {},
     "outputs": [],
     "prompt_number": 1
    },
    {
     "cell_type": "code",
     "collapsed": false,
     "input": [
      "documents = []\n",
      "filelist = glob.glob('../data/product_data/products/products_0001_2570_to_430420.xml')\n",
      "#filelist = glob.glob('../data/product_data/products/*')\n",
      "for filename in filelist:\n",
      "    f       = open(filename, 'r')\n",
      "    soup    = BeautifulSoup(f.read())\n",
      "    products = soup.findAll('product')\n",
      "    for product in products:\n",
      "        sku  = int(product.find('sku').text)\n",
      "        name = product.find('name').text\n",
      "        ld   = product.find('longdescription')\n",
      "        sd   = product.find('shortdescription')\n",
      "        catL = product.find('categorypath')\n",
      "        cat_id   = []\n",
      "        cat_name = []\n",
      "        if catL:\n",
      "            cat_html = catL.findAll('category')\n",
      "            for cat in cat_html:\n",
      "                cat_id.append(cat.find('id').text)\n",
      "                cat_name.append(cat.find('name').text)\n",
      "        if ld:\n",
      "            ld = ld.text\n",
      "        if sd:\n",
      "            sd = sd.text\n",
      "        document = {\"id\":sku,\n",
      "                    \"cat_id\":cat_id,\n",
      "                    \"cat_name\":cat_name,\n",
      "                    \"name\":name,\n",
      "                    \"long_description\":ld,\n",
      "                    \"short_description\":sd}\n",
      "        documents.append(document)"
     ],
     "language": "python",
     "metadata": {},
     "outputs": [],
     "prompt_number": 4
    },
    {
     "cell_type": "code",
     "collapsed": false,
     "input": [
      "import json\n",
      "with open('data.txt', 'w') as outfile:\n",
      "  json.dump(documents, outfile, sort_keys=True, indent=4, separators=(',', ': '))"
     ],
     "language": "python",
     "metadata": {},
     "outputs": [],
     "prompt_number": 5
    },
    {
     "cell_type": "code",
     "collapsed": false,
     "input": [
      "print len(documents)"
     ],
     "language": "python",
     "metadata": {},
     "outputs": [
      {
       "output_type": "stream",
       "stream": "stdout",
       "text": [
        "1275077\n"
       ]
      }
     ],
     "prompt_number": 129
    },
    {
     "cell_type": "code",
     "collapsed": false,
     "input": [
      "import pysolr"
     ],
     "language": "python",
     "metadata": {},
     "outputs": [],
     "prompt_number": 130
    },
    {
     "cell_type": "code",
     "collapsed": false,
     "input": [
      "solr = pysolr.Solr('http://localhost:8983/solr/', timeout=10)\n",
      "solr.delete(q='*:*')\n",
      "solr.add(documents)"
     ],
     "language": "python",
     "metadata": {},
     "outputs": [
      {
       "metadata": {},
       "output_type": "pyout",
       "prompt_number": 131,
       "text": [
        "u'<?xml version=\"1.0\" encoding=\"UTF-8\"?>\\n<response>\\n<lst name=\"responseHeader\"><int name=\"status\">0</int><int name=\"QTime\">227436</int></lst>\\n</response>\\n'"
       ]
      }
     ],
     "prompt_number": 131
    },
    {
     "cell_type": "code",
     "collapsed": false,
     "input": [
      "nb_results = ('id:7705281' OR 'id:9412619') #figure out how to do an or filter\n",
      "results = solr.search(\"text:'iPod tuner'\", fq=nb_results, rows=10)\n",
      "for result in results:\n",
      "        print result['id']\n",
      "        print result['name']\n",
      "        print result\n"
     ],
     "language": "python",
     "metadata": {},
     "outputs": [
      {
       "ename": "SyntaxError",
       "evalue": "invalid syntax (<ipython-input-157-b1dc2c75fbb7>, line 1)",
       "output_type": "pyerr",
       "traceback": [
        "\u001b[0;36m  File \u001b[0;32m\"<ipython-input-157-b1dc2c75fbb7>\"\u001b[0;36m, line \u001b[0;32m1\u001b[0m\n\u001b[0;31m    nb_results = ('id:7705281' OR 'id:9412619')\u001b[0m\n\u001b[0m                                ^\u001b[0m\n\u001b[0;31mSyntaxError\u001b[0m\u001b[0;31m:\u001b[0m invalid syntax\n"
       ]
      }
     ],
     "prompt_number": 157
    },
    {
     "cell_type": "code",
     "collapsed": false,
     "input": [],
     "language": "python",
     "metadata": {},
     "outputs": []
    }
   ],
   "metadata": {}
  }
 ]
}