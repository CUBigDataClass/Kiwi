{
 "metadata": {
  "name": ""
 },
 "nbformat": 3,
 "nbformat_minor": 0,
 "worksheets": [
  {
   "cells": [
    {
     "cell_type": "code",
     "collapsed": false,
     "input": [
      "%matplotlib inline\n",
      "import pandas as pd\n",
      "import numpy as np\n",
      "import glob\n",
      "from bs4 import BeautifulSoup\n",
      "from collections import defaultdict"
     ],
     "language": "python",
     "metadata": {},
     "outputs": [],
     "prompt_number": 76
    },
    {
     "cell_type": "code",
     "collapsed": false,
     "input": [
      "star     = defaultdict(list)\n",
      "filelist = glob.glob('../data/product_data/reviews/*')\n",
      "for filename in filelist:\n",
      "    f       = open(filename, 'r')\n",
      "    soup    = BeautifulSoup(f.read())\n",
      "    reviews = soup.findAll('review')\n",
      "    for review in reviews:\n",
      "        sku    = int(review.find('sku').text)\n",
      "        rating = float(review.find('rating').text)\n",
      "        star[sku].append(rating)"
     ],
     "language": "python",
     "metadata": {},
     "outputs": [],
     "prompt_number": 73
    },
    {
     "cell_type": "code",
     "collapsed": false,
     "input": [
      "keys      = []\n",
      "avg_star  = []\n",
      "n_ratings = []\n",
      "for key in star:\n",
      "    keys.append(key)\n",
      "    avg_star.append(np.mean(star[key]))\n",
      "    n_ratings.append(len(star[key]))\n",
      "zipped = zip(keys,avg_star,n_ratings)\n",
      "frame = pd.DataFrame.from_records(zipped,columns=['sku','avg_rating','n_rating']).set_index('sku')\n",
      "print frame"
     ],
     "language": "python",
     "metadata": {},
     "outputs": [
      {
       "output_type": "stream",
       "stream": "stdout",
       "text": [
        "          avg_rating  n_rating\n",
        "sku                           \n",
        "6422533     4.933333        15\n",
        "1048582     5.000000         2\n",
        "14811144    5.000000         1\n",
        "9043983     5.000000         1\n",
        "2490384     3.370690       116\n",
        "14811153    5.000000         1\n",
        "6684698     4.000000         5\n",
        "8912901     5.000000         5\n",
        "8912938     5.000000         1\n",
        "9306155     5.000000         1\n",
        "9830447     5.000000         2\n",
        "6815752     5.000000         1\n",
        "8781874     2.583333        12\n",
        "8257593     4.800000         5\n",
        "8912956     5.000000         1\n",
        "9830465     5.000000         1\n",
        "8912965     5.000000         1\n",
        "9437255     5.000000         1\n",
        "9568336     3.884615        26\n",
        "8257619     5.000000         1\n",
        "8912983     5.000000         3\n",
        "1048591     3.272727        22\n",
        "7995486     5.000000         1\n",
        "4587616     3.500000         4\n",
        "3539044     4.000000         8\n",
        "4674918     4.000000         2\n",
        "3670121     4.000000         3\n",
        "9175153     4.000000         3\n",
        "7340148     5.000000         1\n",
        "8913018     4.600000        10\n",
        "7209086     5.000000         1\n",
        "7864448     5.000000        11\n",
        "2097284     4.000000         3\n",
        "9437317     1.000000         1\n",
        "7733385     5.000000         2\n",
        "4980882     4.111111         9\n",
        "3670167     3.666667         3\n",
        "4587546     5.000000         2\n",
        "5089989     4.500000         2\n",
        "2097318     3.000000         2\n",
        "1048743     2.470588        17\n",
        "8388791     5.000000         1\n",
        "2097336     3.000000         5\n",
        "8913081     5.000000         1\n",
        "4587707     4.500000         6\n",
        "9044161     5.000000         1\n",
        "2097354     2.315789        38\n",
        "9830605     4.166667         6\n",
        "7991444     4.000000         1\n",
        "3434885     5.000000         1\n",
        "8650989     4.333333         3\n",
        "4587761     4.000000         8\n",
        "3342377     5.000000         2\n",
        "4085119     1.000000         1\n",
        "7209219     5.000000         1\n",
        "8388871     4.600000         5\n",
        "6684938     1.800000         5\n",
        "9437451     4.000000         3\n",
        "6947101     1.000000         1\n",
        "9437479     3.000000         1\n",
        "                 ...       ...\n",
        "\n",
        "[28661 rows x 2 columns]\n"
       ]
      }
     ],
     "prompt_number": 87
    },
    {
     "cell_type": "code",
     "collapsed": false,
     "input": [
      "frame['avg_rating'].hist()"
     ],
     "language": "python",
     "metadata": {},
     "outputs": [
      {
       "metadata": {},
       "output_type": "pyout",
       "prompt_number": 77,
       "text": [
        "<matplotlib.axes.AxesSubplot at 0x11a435b10>"
       ]
      },
      {
       "metadata": {},
       "output_type": "display_data",
       "png": "[encoded data removed]",
       "text": [
        "<matplotlib.figure.Figure at 0x11a435750>"
       ]
      }
     ],
     "prompt_number": 77
    },
    {
     "cell_type": "code",
     "collapsed": false,
     "input": [
      "frame['n_rating'].hist()"
     ],
     "language": "python",
     "metadata": {},
     "outputs": [
      {
       "metadata": {},
       "output_type": "pyout",
       "prompt_number": 83,
       "text": [
        "<matplotlib.axes.AxesSubplot at 0x11c74d890>"
       ]
      },
      {
       "metadata": {},
       "output_type": "display_data",
       "png": "[encoded data removed]",
       "text": [
        "<matplotlib.figure.Figure at 0x1088680d0>"
       ]
      }
     ],
     "prompt_number": 83
    },
    {
     "cell_type": "code",
     "collapsed": false,
     "input": [
      "log_n_ratings = np.log(frame['n_rating'])\n",
      "log_n_ratings.hist()"
     ],
     "language": "python",
     "metadata": {},
     "outputs": [
      {
       "metadata": {},
       "output_type": "pyout",
       "prompt_number": 86,
       "text": [
        "<matplotlib.axes.AxesSubplot at 0x11b599e90>"
       ]
      },
      {
       "metadata": {},
       "output_type": "display_data",
       "png": "[encoded data removed]",
       "text": [
        "<matplotlib.figure.Figure at 0x11b599c90>"
       ]
      }
     ],
     "prompt_number": 86
    },
    {
     "cell_type": "code",
     "collapsed": false,
     "input": [
      "frame['n_rating'] > 100\n",
      "frame.loc[(frame['n_rating'] > 50)]\n",
      "print len(frame.loc[(frame['n_rating'] > 100)])"
     ],
     "language": "python",
     "metadata": {},
     "outputs": [
      {
       "output_type": "stream",
       "stream": "stdout",
       "text": [
        "313\n"
       ]
      }
     ],
     "prompt_number": 111
    },
    {
     "cell_type": "code",
     "collapsed": false,
     "input": [],
     "language": "python",
     "metadata": {},
     "outputs": []
    }
   ],
   "metadata": {}
  }
 ]
}