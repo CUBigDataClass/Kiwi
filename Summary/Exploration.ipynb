{
 "metadata": {
  "name": "",
  "signature": "sha256:5dc2a5b8d2f8d08a1bf20250bde64608428c303645b3e1db759af386c4e84932"
 },
 "nbformat": 3,
 "nbformat_minor": 0,
 "worksheets": [
  {
   "cells": [
    {
     "cell_type": "markdown",
     "metadata": {},
     "source": [
      "Before implementing any machine learning algorithms it is important to understand the data.  The competition provides us with a training data set and a testing data set of user behavior.\n",
      "\n",
      "Python and pandas make data exploration very quick and easy.  Below is a summary of the training and testing data."
     ]
    },
    {
     "cell_type": "code",
     "collapsed": false,
     "input": [
      "%matplotlib inline\n",
      "import pandas as pd\n",
      "import numpy as np"
     ],
     "language": "python",
     "metadata": {},
     "outputs": [],
     "prompt_number": 2
    },
    {
     "cell_type": "code",
     "collapsed": false,
     "input": [
      "Our training set has 6 columns:  user, product sku, category, query, click time, and query time.  Our goal is to predict the sku number from the other 5 columns "
     ],
     "language": "python",
     "metadata": {},
     "outputs": []
    },
    {
     "cell_type": "code",
     "collapsed": false,
     "input": [
      "train = pd.read_csv(\"../data/train.csv\")\n",
      "print train.head(5)"
     ],
     "language": "python",
     "metadata": {},
     "outputs": [
      {
       "output_type": "stream",
       "stream": "stdout",
       "text": [
        "                                       user      sku            category  \\\n",
        "0  000000df17cd56a5df4a94074e133c9d4739fae3  2125233        abcat0101001   \n",
        "1  000001928162247ffaf63185cd8b2a244c78e7c6  2009324        abcat0101001   \n",
        "2  000017f79c2b5da56721f22f9fdd726b13daf8e8  1517163  pcmcat193100050014   \n",
        "3  000017f79c2b5da56721f22f9fdd726b13daf8e8  2877125        abcat0101001   \n",
        "4  000017f79c2b5da56721f22f9fdd726b13daf8e8  2877134        abcat0101005   \n",
        "\n",
        "                                 query               click_time  \\\n",
        "0  Televisiones Panasonic  50 pulgadas  2011-09-01 23:44:52.533   \n",
        "1                                Sharp   2011-09-05 12:25:37.42   \n",
        "2                                 nook   2011-08-24 12:56:58.91   \n",
        "3                                  rca  2011-10-25 07:18:14.722   \n",
        "4                                  rca  2011-10-25 07:19:51.697   \n",
        "\n",
        "                query_time  \n",
        "0  2011-09-01 23:43:59.752  \n",
        "1  2011-09-05 12:25:01.187  \n",
        "2  2011-08-24 12:55:13.012  \n",
        "3  2011-10-25 07:16:51.759  \n",
        "4  2011-10-25 07:16:51.759  \n",
        "\n",
        "[5 rows x 6 columns]\n"
       ]
      }
     ],
     "prompt_number": 3
    },
    {
     "cell_type": "code",
     "collapsed": false,
     "input": [
      "print \"Number of Rows: \" + str(len(train))\n",
      "print \"Number of Unique Users: \" + str(len(train['user'].unique()))\n",
      "print \"Number of Unique SKU: \" + str(len(train['sku'].unique()))\n",
      "print \"Number of Unique Categories: \" + str(len(train['category'].unique()))"
     ],
     "language": "python",
     "metadata": {},
     "outputs": [
      {
       "output_type": "stream",
       "stream": "stdout",
       "text": [
        "Number of Rows: 1865269\n",
        "Number of Unique Users: 1268702"
       ]
      },
      {
       "output_type": "stream",
       "stream": "stdout",
       "text": [
        "\n",
        "Number of Unique SKU: 69858"
       ]
      },
      {
       "output_type": "stream",
       "stream": "stdout",
       "text": [
        "\n",
        "Number of Unique Categories: 1540"
       ]
      },
      {
       "output_type": "stream",
       "stream": "stdout",
       "text": [
        "\n"
       ]
      }
     ],
     "prompt_number": 4
    },
    {
     "cell_type": "code",
     "collapsed": false,
     "input": [
      "datClickT = pd.to_datetime(train['click_time'])\n",
      "datQueryT = pd.to_datetime(train['query_time'])\n",
      "datDiff = (datClickT - datQueryT).apply(lambda x: x / np.timedelta64(1, 's'))\n",
      "datDiff.hist(bins=60)"
     ],
     "language": "python",
     "metadata": {},
     "outputs": [
      {
       "metadata": {},
       "output_type": "pyout",
       "prompt_number": 8,
       "text": [
        "<matplotlib.axes.AxesSubplot at 0x152b9db50>"
       ]
      },
      {
       "metadata": {},
       "output_type": "display_data",
       "png": "[encoded data removed]",
       "text": [
        "<matplotlib.figure.Figure at 0x12b1c93d0>"
       ]
      }
     ],
     "prompt_number": 8
    },
    {
     "cell_type": "code",
     "collapsed": false,
     "input": [
      "test = pd.read_csv(\"../data/test.csv\")\n",
      "print test.head(5)\n",
      "print \"Number of Rows: \" + str(len(test))\n",
      "print \"Number of Unique Users: \" + str(len(test['user'].unique()))\n",
      "print \"Number of Unique Categories: \" + str(len(test['category'].unique()))"
     ],
     "language": "python",
     "metadata": {},
     "outputs": [
      {
       "output_type": "stream",
       "stream": "stdout",
       "text": [
        "                                       user            category  \\\n",
        "0  000000df17cd56a5df4a94074e133c9d4739fae3  pcmcat143200050016   \n",
        "1  000013538bfdb3c1d1f286e889113024878f3159  pcmcat194500050007   \n",
        "2  000017f79c2b5da56721f22f9fdd726b13daf8e8  pcmcat193100050014   \n",
        "3  0000206ed2d68b4c0e2361253da71325a74c82ba        abcat0515040   \n",
        "4  000020752d9ea7b2cf7ffd61e84c386711fdf267            cat02015   \n",
        "\n",
        "                  query               click_time               query_time  \n",
        "0          Televisiones  2011-09-01 23:43:01.633  2011-09-01 23:42:31.317  \n",
        "1                    xm  2011-10-25 23:58:12.574  2011-10-25 23:57:14.409  \n",
        "2                  nook  2011-08-24 12:56:22.104  2011-08-24 12:55:13.012  \n",
        "3         altec lansing  2011-10-25 21:01:25.854  2011-10-25 21:01:04.103  \n",
        "4  phantom of the opera  2011-10-23 09:46:20.915  2011-10-23 09:45:27.633  \n",
        "\n",
        "[5 rows x 5 columns]\n",
        "Number of Rows: 1243510\n",
        "Number of Unique Users: 915391"
       ]
      },
      {
       "output_type": "stream",
       "stream": "stdout",
       "text": [
        "\n",
        "Number of Unique Categories: 1512"
       ]
      },
      {
       "output_type": "stream",
       "stream": "stdout",
       "text": [
        "\n"
       ]
      }
     ],
     "prompt_number": 12
    },
    {
     "cell_type": "code",
     "collapsed": false,
     "input": [
      "datClickT = pd.to_datetime(test['click_time'])\n",
      "datQueryT = pd.to_datetime(test['query_time'])\n",
      "datDiff = (datClickT - datQueryT).apply(lambda x: x / np.timedelta64(1, 's'))\n",
      "datDiff.hist(bins=60)"
     ],
     "language": "python",
     "metadata": {},
     "outputs": [
      {
       "metadata": {},
       "output_type": "pyout",
       "prompt_number": 6,
       "text": [
        "<matplotlib.axes.AxesSubplot at 0x128133490>"
       ]
      },
      {
       "metadata": {},
       "output_type": "display_data",
       "png": "[encoded data removed]",
       "text": [
        "<matplotlib.figure.Figure at 0x128132f90>"
       ]
      }
     ],
     "prompt_number": 6
    },
    {
     "cell_type": "code",
     "collapsed": false,
     "input": [],
     "language": "python",
     "metadata": {},
     "outputs": []
    }
   ],
   "metadata": {}
  }
 ]
}