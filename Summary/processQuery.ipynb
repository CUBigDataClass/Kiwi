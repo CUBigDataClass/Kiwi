{
 "metadata": {
  "name": ""
 },
 "nbformat": 3,
 "nbformat_minor": 0,
 "worksheets": [
  {
   "cells": [
    {
     "cell_type": "code",
     "collapsed": false,
     "input": [
      "import re\n",
      "import string\n",
      "\n",
      "s = 'I am very!   excited. for work@5'\n",
      "\n",
      "out1 = s.translate(string.maketrans(\"\",\"\"), string.punctuation)\n",
      "out2 = re.sub('(\\s+)(a|an|and|the)(\\s+)', '\\1\\3', out1)\n",
      "out3 = re.sub(' +',' ',out2)\n",
      "print out1\n",
      "print out2\n",
      "print out3\n"
     ],
     "language": "python",
     "metadata": {},
     "outputs": [
      {
       "output_type": "stream",
       "stream": "stdout",
       "text": [
        "I am very   excited for work5\n",
        "I am very   excited for work5\n",
        "I am very excited for work5\n"
       ]
      }
     ],
     "prompt_number": 14
    },
    {
     "cell_type": "code",
     "collapsed": false,
     "input": [],
     "language": "python",
     "metadata": {},
     "outputs": []
    }
   ],
   "metadata": {}
  }
 ]
}