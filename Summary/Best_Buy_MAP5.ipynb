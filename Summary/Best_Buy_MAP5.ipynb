{
 "metadata": {
  "name": "",
  "signature": "sha256:d879c53279feeb9a5cd4d9384cd4509b59c69ef41d21fcea16c362d1d72e54ac"
 },
 "nbformat": 3,
 "nbformat_minor": 0,
 "worksheets": [
  {
   "cells": [
    {
     "cell_type": "code",
     "collapsed": false,
     "input": [],
     "language": "python",
     "metadata": {},
     "outputs": [],
     "prompt_number": 1
    },
    {
     "cell_type": "code",
     "collapsed": false,
     "input": [
      "def Mean_Average_Precision(actual, predicted):\n",
      "    if len(actual) != len(predicted):\n",
      "        print \"actual and predicted don't have same number of elements\"\n",
      "        return\n",
      "    mean_average_precision = 0\n",
      "    for i,p in zip(actual, predicted):\n",
      "        n = float(1)\n",
      "        average_precision = 0\n",
      "        for guess in p:\n",
      "            if i == guess:\n",
      "                average_precision = 1/n\n",
      "                break\n",
      "            else:                    \n",
      "                n += 1\n",
      "        mean_average_precision += average_precision\n",
      "    mean_average_precision /= len(actual)\n",
      "    return mean_average_precision"
     ],
     "language": "python",
     "metadata": {},
     "outputs": [],
     "prompt_number": 49
    },
    {
     "cell_type": "code",
     "collapsed": false,
     "input": [
      "def Max_Score(actual, predicted):\n",
      "    if len(actual) != len(predicted):\n",
      "        print \"actual and predicted don't have same number of elements\"\n",
      "        return\n",
      "    max_score = float(0)\n",
      "    for i,p in zip(actual, predicted):\n",
      "        if i in p:\n",
      "            max_score += 1\n",
      "    max_score /= len(actual)\n",
      "    return max_score"
     ],
     "language": "python",
     "metadata": {},
     "outputs": [],
     "prompt_number": 50
    },
    {
     "cell_type": "code",
     "collapsed": false,
     "input": [
      "act = [1,1,4,4,5]\n",
      "pre = [(1,2,3,4,5),(1,2,3,4,5),(1,2,3,4,5),(1,2,3,4,5),(1,2,3,4,5)]\n",
      "\n",
      "print Mean_Average_Precision(act,pre)\n",
      "print Max_Score(act,pre)"
     ],
     "language": "python",
     "metadata": {},
     "outputs": [
      {
       "output_type": "stream",
       "stream": "stdout",
       "text": [
        "0.54\n",
        "1.0\n"
       ]
      }
     ],
     "prompt_number": 51
    },
    {
     "cell_type": "code",
     "collapsed": false,
     "input": [],
     "language": "python",
     "metadata": {},
     "outputs": []
    }
   ],
   "metadata": {}
  }
 ]
}