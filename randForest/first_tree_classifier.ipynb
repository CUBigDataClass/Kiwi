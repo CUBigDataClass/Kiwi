{
 "metadata": {
  "name": "",
  "signature": "sha256:a3e2ae717f6496d2570d30c3ab76b2e018f7684b69f1d9c6b258be7408020f58"
 },
 "nbformat": 3,
 "nbformat_minor": 0,
 "worksheets": [
  {
   "cells": [
    {
     "cell_type": "code",
     "collapsed": false,
     "input": [
      "import pandas as pd\n",
      "import numpy as np\n",
      "import re\n",
      "import string\n",
      "\n",
      "from sklearn.feature_extraction import DictVectorizer\n",
      "from sklearn import cross_validation\n",
      "from sklearn import tree\n",
      "from sklearn import preprocessing"
     ],
     "language": "python",
     "metadata": {},
     "outputs": [],
     "prompt_number": 19
    },
    {
     "cell_type": "code",
     "collapsed": false,
     "input": [
      "#load train.csv as a pandas frame\n",
      "train = pd.read_csv(\"../data/train.csv\")\n",
      "\n",
      "#prints basic stats\n",
      "totalnum = len(train)\n",
      "print \"Number of Rows: \" + str(len(train))\n",
      "print \"Number of Unique Users: \" + str(len(train['user'].unique()))\n",
      "print \"Number of Unique SKU: \" + str(len(train['sku'].unique()))\n",
      "print \"Number of Unique Categories: \" + str(len(train['category'].unique()))"
     ],
     "language": "python",
     "metadata": {},
     "outputs": [
      {
       "output_type": "stream",
       "stream": "stdout",
       "text": [
        "Number of Rows: 1865269\n",
        "Number of Unique Users: 1268702"
       ]
      },
      {
       "output_type": "stream",
       "stream": "stdout",
       "text": [
        "\n",
        "Number of Unique SKU: 69858"
       ]
      },
      {
       "output_type": "stream",
       "stream": "stdout",
       "text": [
        "\n",
        "Number of Unique Categories: 1540"
       ]
      },
      {
       "output_type": "stream",
       "stream": "stdout",
       "text": [
        "\n"
       ]
      }
     ],
     "prompt_number": 20
    },
    {
     "cell_type": "code",
     "collapsed": false,
     "input": [
      "#add column for formatted time difference\n",
      "train['Tdiff'] = (pd.to_datetime(train['click_time']) - pd.to_datetime(train['query_time'])).apply(lambda x: x / np.timedelta64(1, 's'))\n",
      "\n",
      "#clean up query\n",
      "train['query'] = train['query'].apply(lambda x: x.upper(),1)\n",
      "train['query'] = train['query'].apply(lambda x: x.translate(string.maketrans(\"\",\"\"), string.punctuation),1)\n",
      "train['query'] = train['query'].apply(lambda x: re.sub('(\\s+)(a|an|and|the)(\\s+)', '\\1\\3', x),1)\n",
      "train['query'] = train['query'].apply(lambda x: re.sub(' +',' ',x),1)\n",
      "\n",
      "#store SKU number (answer)\n",
      "Y = train['sku'].values\n",
      "\n",
      "#drop uneeded rows\n",
      "train.drop(['click_time','query_time', 'sku'],inplace=True,axis=1)"
     ],
     "language": "python",
     "metadata": {},
     "outputs": [],
     "prompt_number": 21
    },
    {
     "cell_type": "code",
     "collapsed": false,
     "input": [
      "#vectorize data...in actual case we will have to vectorize the training and test data sets together!\n",
      "vec = DictVectorizer()\n",
      "train_vec = vec.fit_transform(train[0:10000].T.to_dict().values()) #for now I am only taking a small slice of the actual data"
     ],
     "language": "python",
     "metadata": {},
     "outputs": [],
     "prompt_number": 26
    },
    {
     "cell_type": "code",
     "collapsed": false,
     "input": [
      "r_max = 8000\n",
      "clf = tree.DecisionTreeClassifier()\n",
      "clf = clf.fit(train_vec.toarray()[0:r_max], Y[0:r_max])"
     ],
     "language": "python",
     "metadata": {},
     "outputs": [],
     "prompt_number": 27
    },
    {
     "cell_type": "code",
     "collapsed": false,
     "input": [
      "Z = clf.predict(train_vec.toarray()[8001:10000])"
     ],
     "language": "python",
     "metadata": {},
     "outputs": [],
     "prompt_number": 28
    },
    {
     "cell_type": "code",
     "collapsed": false,
     "input": [
      "#count matches\n",
      "count = 0\n",
      "for i in range(0,len(Z)):\n",
      "    if Z[i]==Y[8001+i]:\n",
      "        #print str(i) + \"\\t\" + str(Z[i]) + \"\\t\" + str(Y[8001+i])\n",
      "        count+=1\n",
      "print count"
     ],
     "language": "python",
     "metadata": {},
     "outputs": [
      {
       "output_type": "stream",
       "stream": "stdout",
       "text": [
        "350\n"
       ]
      }
     ],
     "prompt_number": 38
    },
    {
     "cell_type": "code",
     "collapsed": false,
     "input": [
      "#accuracy\n",
      "print float(count) / len(Z)"
     ],
     "language": "python",
     "metadata": {},
     "outputs": [
      {
       "output_type": "stream",
       "stream": "stdout",
       "text": [
        "0.175087543772\n"
       ]
      }
     ],
     "prompt_number": 37
    },
    {
     "cell_type": "code",
     "collapsed": false,
     "input": [],
     "language": "python",
     "metadata": {},
     "outputs": []
    }
   ],
   "metadata": {}
  }
 ]
}